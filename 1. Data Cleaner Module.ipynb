{
 "cells": [
  {
   "cell_type": "code",
   "execution_count": 1,
   "id": "569f56ad",
   "metadata": {},
   "outputs": [],
   "source": [
    "#Data manipulation and visualisation\n",
    "import pandas as pd\n",
    "import seaborn as sns\n",
    "import numpy as np\n",
    "import matplotlib.pyplot as plt"
   ]
  },
  {
   "cell_type": "code",
   "execution_count": 18,
   "id": "e6fff380",
   "metadata": {},
   "outputs": [],
   "source": [
    "pd.set_option('display.max_columns', None)"
   ]
  },
  {
   "cell_type": "markdown",
   "id": "08fc80c6",
   "metadata": {},
   "source": [
    "# import file "
   ]
  },
  {
   "cell_type": "code",
   "execution_count": 59,
   "id": "22c4dc8b",
   "metadata": {},
   "outputs": [],
   "source": [
    "df = pd.read_excel(\"Data_scientist_Assessment.xls\",\"Data\",header=1)"
   ]
  },
  {
   "cell_type": "code",
   "execution_count": 60,
   "id": "12291e73",
   "metadata": {
    "scrolled": true
   },
   "outputs": [
    {
     "data": {
      "text/plain": [
       "0    0.7788\n",
       "1    0.2212\n",
       "Name: default payment next month, dtype: float64"
      ]
     },
     "execution_count": 60,
     "metadata": {},
     "output_type": "execute_result"
    }
   ],
   "source": [
    "#22.1% defaulter. Data might be overweighted\n",
    "\n",
    "df[\"default payment next month\"].value_counts(normalize=True)"
   ]
  },
  {
   "cell_type": "markdown",
   "id": "6bfc7160",
   "metadata": {},
   "source": [
    "# Clean data "
   ]
  },
  {
   "cell_type": "code",
   "execution_count": 61,
   "id": "04cffba5",
   "metadata": {},
   "outputs": [
    {
     "data": {
      "text/plain": [
       "ID                            0\n",
       "LIMIT_BAL                     0\n",
       "SEX                           0\n",
       "EDUCATION                     0\n",
       "MARRIAGE                      0\n",
       "AGE                           0\n",
       "PAY_0                         0\n",
       "PAY_2                         0\n",
       "PAY_3                         0\n",
       "PAY_4                         0\n",
       "PAY_5                         0\n",
       "PAY_6                         0\n",
       "BILL_AMT1                     0\n",
       "BILL_AMT2                     0\n",
       "BILL_AMT3                     0\n",
       "BILL_AMT4                     0\n",
       "BILL_AMT5                     0\n",
       "BILL_AMT6                     0\n",
       "PAY_AMT1                      0\n",
       "PAY_AMT2                      0\n",
       "PAY_AMT3                      0\n",
       "PAY_AMT4                      0\n",
       "PAY_AMT5                      0\n",
       "PAY_AMT6                      0\n",
       "default payment next month    0\n",
       "dtype: int64"
      ]
     },
     "execution_count": 61,
     "metadata": {},
     "output_type": "execute_result"
    }
   ],
   "source": [
    "#no missing value\n",
    "df.isna().sum()"
   ]
  },
  {
   "cell_type": "code",
   "execution_count": 62,
   "id": "c4ab1fee",
   "metadata": {},
   "outputs": [],
   "source": [
    "# rename pay_0 \n",
    "df.rename(columns={'PAY_0': 'PAY_1'}, inplace=True)"
   ]
  },
  {
   "cell_type": "markdown",
   "id": "0f722b62",
   "metadata": {},
   "source": [
    "# feature engineering "
   ]
  },
  {
   "cell_type": "code",
   "execution_count": 63,
   "id": "6d64375e",
   "metadata": {},
   "outputs": [],
   "source": [
    "# get balance bill after payment\n",
    "for i in range(1,7):\n",
    "    df[\"balance\"+str(i)] = df[\"BILL_AMT\"+str(i)] - df[\"PAY_AMT\"+str(i)]"
   ]
  },
  {
   "cell_type": "code",
   "execution_count": 65,
   "id": "2564a3e5",
   "metadata": {},
   "outputs": [],
   "source": [
    "# get maximum backlog months of payment\n",
    "backlog_payment = df[['PAY_1','PAY_2', 'PAY_3', 'PAY_4', 'PAY_5', 'PAY_6']]\n",
    "df[\"max_backlog_month\"] = backlog_payment.max(axis=\"columns\")"
   ]
  },
  {
   "cell_type": "code",
   "execution_count": 66,
   "id": "b58b7b57",
   "metadata": {},
   "outputs": [],
   "source": [
    "#get max balance of payment\n",
    "backlog_balance = df[['balance1', 'balance2', 'balance3','balance4', 'balance5', 'balance6']]\n",
    "df[\"max_backlog_balance\"] = backlog_balance.max(axis=\"columns\")"
   ]
  },
  {
   "cell_type": "code",
   "execution_count": 67,
   "id": "0696aa64",
   "metadata": {},
   "outputs": [],
   "source": [
    "#get balance to credit ratio. signal ability to clear the balance\n",
    "df[\"balance_to_credit\"] = df[\"max_backlog_balance\"] / df[\"LIMIT_BAL\"]"
   ]
  },
  {
   "cell_type": "code",
   "execution_count": 69,
   "id": "a5fbf522",
   "metadata": {},
   "outputs": [],
   "source": [
    "df = df[['SEX', 'EDUCATION', 'MARRIAGE', 'AGE', 'max_backlog_month',\n",
    "       'balance_to_credit', 'default payment next month']]"
   ]
  },
  {
   "cell_type": "markdown",
   "id": "83a3160f",
   "metadata": {},
   "source": [
    "# covert categories to nominal level"
   ]
  },
  {
   "cell_type": "code",
   "execution_count": 77,
   "id": "65b96984",
   "metadata": {},
   "outputs": [],
   "source": [
    "#gender\n",
    "def get_gender(value):\n",
    "    if value == 1: \n",
    "        return \"male\"\n",
    "    else:\n",
    "        return \"female\" \n",
    "    \n",
    "df[\"SEX\"] = df[\"SEX\"].apply(get_gender)"
   ]
  },
  {
   "cell_type": "code",
   "execution_count": 80,
   "id": "5aaee84f",
   "metadata": {},
   "outputs": [],
   "source": [
    "#martial status\n",
    "def get_status(value):\n",
    "    if value == 1: \n",
    "        return \"married\"\n",
    "    elif value == 2:\n",
    "        return \"single\" \n",
    "    else:\n",
    "        return \"others\" \n",
    "    \n",
    "df[\"MARRIAGE\"] = df[\"MARRIAGE\"].apply(get_status)"
   ]
  },
  {
   "cell_type": "code",
   "execution_count": 81,
   "id": "e1dde465",
   "metadata": {},
   "outputs": [
    {
     "data": {
      "text/html": [
       "<div>\n",
       "<style scoped>\n",
       "    .dataframe tbody tr th:only-of-type {\n",
       "        vertical-align: middle;\n",
       "    }\n",
       "\n",
       "    .dataframe tbody tr th {\n",
       "        vertical-align: top;\n",
       "    }\n",
       "\n",
       "    .dataframe thead th {\n",
       "        text-align: right;\n",
       "    }\n",
       "</style>\n",
       "<table border=\"1\" class=\"dataframe\">\n",
       "  <thead>\n",
       "    <tr style=\"text-align: right;\">\n",
       "      <th></th>\n",
       "      <th>SEX</th>\n",
       "      <th>EDUCATION</th>\n",
       "      <th>MARRIAGE</th>\n",
       "      <th>AGE</th>\n",
       "      <th>max_backlog_month</th>\n",
       "      <th>balance_to_credit</th>\n",
       "      <th>default payment next month</th>\n",
       "    </tr>\n",
       "  </thead>\n",
       "  <tbody>\n",
       "    <tr>\n",
       "      <th>0</th>\n",
       "      <td>female</td>\n",
       "      <td>2</td>\n",
       "      <td>married</td>\n",
       "      <td>24</td>\n",
       "      <td>2</td>\n",
       "      <td>0.195650</td>\n",
       "      <td>1</td>\n",
       "    </tr>\n",
       "    <tr>\n",
       "      <th>1</th>\n",
       "      <td>female</td>\n",
       "      <td>2</td>\n",
       "      <td>single</td>\n",
       "      <td>26</td>\n",
       "      <td>2</td>\n",
       "      <td>0.028792</td>\n",
       "      <td>1</td>\n",
       "    </tr>\n",
       "    <tr>\n",
       "      <th>2</th>\n",
       "      <td>female</td>\n",
       "      <td>2</td>\n",
       "      <td>single</td>\n",
       "      <td>34</td>\n",
       "      <td>0</td>\n",
       "      <td>0.308011</td>\n",
       "      <td>0</td>\n",
       "    </tr>\n",
       "    <tr>\n",
       "      <th>3</th>\n",
       "      <td>female</td>\n",
       "      <td>2</td>\n",
       "      <td>married</td>\n",
       "      <td>37</td>\n",
       "      <td>0</td>\n",
       "      <td>0.961820</td>\n",
       "      <td>0</td>\n",
       "    </tr>\n",
       "    <tr>\n",
       "      <th>4</th>\n",
       "      <td>male</td>\n",
       "      <td>2</td>\n",
       "      <td>married</td>\n",
       "      <td>57</td>\n",
       "      <td>0</td>\n",
       "      <td>0.516700</td>\n",
       "      <td>0</td>\n",
       "    </tr>\n",
       "    <tr>\n",
       "      <th>...</th>\n",
       "      <td>...</td>\n",
       "      <td>...</td>\n",
       "      <td>...</td>\n",
       "      <td>...</td>\n",
       "      <td>...</td>\n",
       "      <td>...</td>\n",
       "      <td>...</td>\n",
       "    </tr>\n",
       "    <tr>\n",
       "      <th>29995</th>\n",
       "      <td>male</td>\n",
       "      <td>3</td>\n",
       "      <td>married</td>\n",
       "      <td>39</td>\n",
       "      <td>0</td>\n",
       "      <td>0.924373</td>\n",
       "      <td>0</td>\n",
       "    </tr>\n",
       "    <tr>\n",
       "      <th>29996</th>\n",
       "      <td>male</td>\n",
       "      <td>3</td>\n",
       "      <td>single</td>\n",
       "      <td>43</td>\n",
       "      <td>0</td>\n",
       "      <td>0.059000</td>\n",
       "      <td>0</td>\n",
       "    </tr>\n",
       "    <tr>\n",
       "      <th>29997</th>\n",
       "      <td>male</td>\n",
       "      <td>2</td>\n",
       "      <td>single</td>\n",
       "      <td>37</td>\n",
       "      <td>4</td>\n",
       "      <td>0.619400</td>\n",
       "      <td>1</td>\n",
       "    </tr>\n",
       "    <tr>\n",
       "      <th>29998</th>\n",
       "      <td>male</td>\n",
       "      <td>3</td>\n",
       "      <td>married</td>\n",
       "      <td>41</td>\n",
       "      <td>1</td>\n",
       "      <td>0.939075</td>\n",
       "      <td>1</td>\n",
       "    </tr>\n",
       "    <tr>\n",
       "      <th>29999</th>\n",
       "      <td>male</td>\n",
       "      <td>2</td>\n",
       "      <td>married</td>\n",
       "      <td>46</td>\n",
       "      <td>0</td>\n",
       "      <td>0.966680</td>\n",
       "      <td>1</td>\n",
       "    </tr>\n",
       "  </tbody>\n",
       "</table>\n",
       "<p>30000 rows × 7 columns</p>\n",
       "</div>"
      ],
      "text/plain": [
       "          SEX  EDUCATION MARRIAGE  AGE  max_backlog_month  balance_to_credit  \\\n",
       "0      female          2  married   24                  2           0.195650   \n",
       "1      female          2   single   26                  2           0.028792   \n",
       "2      female          2   single   34                  0           0.308011   \n",
       "3      female          2  married   37                  0           0.961820   \n",
       "4        male          2  married   57                  0           0.516700   \n",
       "...       ...        ...      ...  ...                ...                ...   \n",
       "29995    male          3  married   39                  0           0.924373   \n",
       "29996    male          3   single   43                  0           0.059000   \n",
       "29997    male          2   single   37                  4           0.619400   \n",
       "29998    male          3  married   41                  1           0.939075   \n",
       "29999    male          2  married   46                  0           0.966680   \n",
       "\n",
       "       default payment next month  \n",
       "0                               1  \n",
       "1                               1  \n",
       "2                               0  \n",
       "3                               0  \n",
       "4                               0  \n",
       "...                           ...  \n",
       "29995                           0  \n",
       "29996                           0  \n",
       "29997                           1  \n",
       "29998                           1  \n",
       "29999                           1  \n",
       "\n",
       "[30000 rows x 7 columns]"
      ]
     },
     "execution_count": 81,
     "metadata": {},
     "output_type": "execute_result"
    }
   ],
   "source": [
    "df"
   ]
  },
  {
   "cell_type": "markdown",
   "id": "707c744d",
   "metadata": {},
   "source": [
    "# feature selection"
   ]
  },
  {
   "cell_type": "code",
   "execution_count": 86,
   "id": "b328cd32",
   "metadata": {},
   "outputs": [
    {
     "data": {
      "text/html": [
       "<style  type=\"text/css\" >\n",
       "#T_1f16e_row0_col0,#T_1f16e_row1_col1,#T_1f16e_row2_col2,#T_1f16e_row3_col3{\n",
       "            background-color:  #b40426;\n",
       "            color:  #f1f1f1;\n",
       "        }#T_1f16e_row0_col1{\n",
       "            background-color:  #80a3fa;\n",
       "            color:  #000000;\n",
       "        }#T_1f16e_row0_col2{\n",
       "            background-color:  #6282ea;\n",
       "            color:  #000000;\n",
       "        }#T_1f16e_row0_col3{\n",
       "            background-color:  #81a4fb;\n",
       "            color:  #000000;\n",
       "        }#T_1f16e_row1_col0{\n",
       "            background-color:  #5977e3;\n",
       "            color:  #000000;\n",
       "        }#T_1f16e_row1_col2,#T_1f16e_row1_col3,#T_1f16e_row2_col0,#T_1f16e_row2_col1{\n",
       "            background-color:  #3b4cc0;\n",
       "            color:  #f1f1f1;\n",
       "        }#T_1f16e_row2_col3{\n",
       "            background-color:  #a7c5fe;\n",
       "            color:  #000000;\n",
       "        }#T_1f16e_row3_col0{\n",
       "            background-color:  #5b7ae5;\n",
       "            color:  #000000;\n",
       "        }#T_1f16e_row3_col1{\n",
       "            background-color:  #3d50c3;\n",
       "            color:  #f1f1f1;\n",
       "        }#T_1f16e_row3_col2{\n",
       "            background-color:  #aac7fd;\n",
       "            color:  #000000;\n",
       "        }</style><table id=\"T_1f16e_\" ><thead>    <tr>        <th class=\"blank level0\" ></th>        <th class=\"col_heading level0 col0\" >EDUCATION</th>        <th class=\"col_heading level0 col1\" >AGE</th>        <th class=\"col_heading level0 col2\" >max_backlog_month</th>        <th class=\"col_heading level0 col3\" >balance_to_credit</th>    </tr></thead><tbody>\n",
       "                <tr>\n",
       "                        <th id=\"T_1f16e_level0_row0\" class=\"row_heading level0 row0\" >EDUCATION</th>\n",
       "                        <td id=\"T_1f16e_row0_col0\" class=\"data row0 col0\" >1.000000</td>\n",
       "                        <td id=\"T_1f16e_row0_col1\" class=\"data row0 col1\" >0.175061</td>\n",
       "                        <td id=\"T_1f16e_row0_col2\" class=\"data row0 col2\" >0.085161</td>\n",
       "                        <td id=\"T_1f16e_row0_col3\" class=\"data row0 col3\" >0.183314</td>\n",
       "            </tr>\n",
       "            <tr>\n",
       "                        <th id=\"T_1f16e_level0_row1\" class=\"row_heading level0 row1\" >AGE</th>\n",
       "                        <td id=\"T_1f16e_row1_col0\" class=\"data row1 col0\" >0.175061</td>\n",
       "                        <td id=\"T_1f16e_row1_col1\" class=\"data row1 col1\" >1.000000</td>\n",
       "                        <td id=\"T_1f16e_row1_col2\" class=\"data row1 col2\" >-0.049913</td>\n",
       "                        <td id=\"T_1f16e_row1_col3\" class=\"data row1 col3\" >-0.041573</td>\n",
       "            </tr>\n",
       "            <tr>\n",
       "                        <th id=\"T_1f16e_level0_row2\" class=\"row_heading level0 row2\" >max_backlog_month</th>\n",
       "                        <td id=\"T_1f16e_row2_col0\" class=\"data row2 col0\" >0.085161</td>\n",
       "                        <td id=\"T_1f16e_row2_col1\" class=\"data row2 col1\" >-0.049913</td>\n",
       "                        <td id=\"T_1f16e_row2_col2\" class=\"data row2 col2\" >1.000000</td>\n",
       "                        <td id=\"T_1f16e_row2_col3\" class=\"data row2 col3\" >0.298926</td>\n",
       "            </tr>\n",
       "            <tr>\n",
       "                        <th id=\"T_1f16e_level0_row3\" class=\"row_heading level0 row3\" >balance_to_credit</th>\n",
       "                        <td id=\"T_1f16e_row3_col0\" class=\"data row3 col0\" >0.183314</td>\n",
       "                        <td id=\"T_1f16e_row3_col1\" class=\"data row3 col1\" >-0.041573</td>\n",
       "                        <td id=\"T_1f16e_row3_col2\" class=\"data row3 col2\" >0.298926</td>\n",
       "                        <td id=\"T_1f16e_row3_col3\" class=\"data row3 col3\" >1.000000</td>\n",
       "            </tr>\n",
       "    </tbody></table>"
      ],
      "text/plain": [
       "<pandas.io.formats.style.Styler at 0x26e87bc89d0>"
      ]
     },
     "execution_count": 86,
     "metadata": {},
     "output_type": "execute_result"
    }
   ],
   "source": [
    "#numericals variables\n",
    "df_numerics = df[['EDUCATION', 'AGE', 'max_backlog_month',\n",
    "       'balance_to_credit']]\n",
    "\n",
    "#strongest coorelations at age and dependence of only 29%. All numerical features shall be retained\n",
    "corr = df_numerics.corr()\n",
    "corr.style.background_gradient(cmap='coolwarm')"
   ]
  },
  {
   "cell_type": "code",
   "execution_count": 109,
   "id": "2705b60a",
   "metadata": {},
   "outputs": [
    {
     "data": {
      "image/png": "[encoded data removed]",
      "text/plain": [
       "<Figure size 1440x576 with 2 Axes>"
      ]
     },
     "metadata": {
      "needs_background": "light"
     },
     "output_type": "display_data"
    }
   ],
   "source": [
    "#categorical variables\n",
    "catorgical_variables = [\"SEX\", \"MARRIAGE\"]\n",
    "\n",
    "#no level dominates the default rate. all are used\n",
    "fig, axes = plt.subplots(1, 2,figsize=(20,8))\n",
    "for i in range(0, len(catorgical_variables)):\n",
    "    sns.countplot(x=catorgical_variables[i], hue=\"default payment next month\", data=df, ax=axes[i,])"
   ]
  },
  {
   "cell_type": "code",
   "execution_count": 110,
   "id": "0d076277",
   "metadata": {},
   "outputs": [],
   "source": [
    "df.to_csv(\"cleaned_data.csv\",index=False)"
   ]
  },
  {
   "cell_type": "code",
   "execution_count": 111,
   "id": "43f8f5d8",
   "metadata": {},
   "outputs": [
    {
     "data": {
      "text/html": [
       "<div>\n",
       "<style scoped>\n",
       "    .dataframe tbody tr th:only-of-type {\n",
       "        vertical-align: middle;\n",
       "    }\n",
       "\n",
       "    .dataframe tbody tr th {\n",
       "        vertical-align: top;\n",
       "    }\n",
       "\n",
       "    .dataframe thead th {\n",
       "        text-align: right;\n",
       "    }\n",
       "</style>\n",
       "<table border=\"1\" class=\"dataframe\">\n",
       "  <thead>\n",
       "    <tr style=\"text-align: right;\">\n",
       "      <th></th>\n",
       "      <th>SEX</th>\n",
       "      <th>EDUCATION</th>\n",
       "      <th>MARRIAGE</th>\n",
       "      <th>AGE</th>\n",
       "      <th>max_backlog_month</th>\n",
       "      <th>balance_to_credit</th>\n",
       "      <th>default payment next month</th>\n",
       "    </tr>\n",
       "  </thead>\n",
       "  <tbody>\n",
       "    <tr>\n",
       "      <th>0</th>\n",
       "      <td>female</td>\n",
       "      <td>2</td>\n",
       "      <td>married</td>\n",
       "      <td>24</td>\n",
       "      <td>2</td>\n",
       "      <td>0.195650</td>\n",
       "      <td>1</td>\n",
       "    </tr>\n",
       "    <tr>\n",
       "      <th>1</th>\n",
       "      <td>female</td>\n",
       "      <td>2</td>\n",
       "      <td>single</td>\n",
       "      <td>26</td>\n",
       "      <td>2</td>\n",
       "      <td>0.028792</td>\n",
       "      <td>1</td>\n",
       "    </tr>\n",
       "    <tr>\n",
       "      <th>2</th>\n",
       "      <td>female</td>\n",
       "      <td>2</td>\n",
       "      <td>single</td>\n",
       "      <td>34</td>\n",
       "      <td>0</td>\n",
       "      <td>0.308011</td>\n",
       "      <td>0</td>\n",
       "    </tr>\n",
       "    <tr>\n",
       "      <th>3</th>\n",
       "      <td>female</td>\n",
       "      <td>2</td>\n",
       "      <td>married</td>\n",
       "      <td>37</td>\n",
       "      <td>0</td>\n",
       "      <td>0.961820</td>\n",
       "      <td>0</td>\n",
       "    </tr>\n",
       "    <tr>\n",
       "      <th>4</th>\n",
       "      <td>male</td>\n",
       "      <td>2</td>\n",
       "      <td>married</td>\n",
       "      <td>57</td>\n",
       "      <td>0</td>\n",
       "      <td>0.516700</td>\n",
       "      <td>0</td>\n",
       "    </tr>\n",
       "    <tr>\n",
       "      <th>...</th>\n",
       "      <td>...</td>\n",
       "      <td>...</td>\n",
       "      <td>...</td>\n",
       "      <td>...</td>\n",
       "      <td>...</td>\n",
       "      <td>...</td>\n",
       "      <td>...</td>\n",
       "    </tr>\n",
       "    <tr>\n",
       "      <th>29995</th>\n",
       "      <td>male</td>\n",
       "      <td>3</td>\n",
       "      <td>married</td>\n",
       "      <td>39</td>\n",
       "      <td>0</td>\n",
       "      <td>0.924373</td>\n",
       "      <td>0</td>\n",
       "    </tr>\n",
       "    <tr>\n",
       "      <th>29996</th>\n",
       "      <td>male</td>\n",
       "      <td>3</td>\n",
       "      <td>single</td>\n",
       "      <td>43</td>\n",
       "      <td>0</td>\n",
       "      <td>0.059000</td>\n",
       "      <td>0</td>\n",
       "    </tr>\n",
       "    <tr>\n",
       "      <th>29997</th>\n",
       "      <td>male</td>\n",
       "      <td>2</td>\n",
       "      <td>single</td>\n",
       "      <td>37</td>\n",
       "      <td>4</td>\n",
       "      <td>0.619400</td>\n",
       "      <td>1</td>\n",
       "    </tr>\n",
       "    <tr>\n",
       "      <th>29998</th>\n",
       "      <td>male</td>\n",
       "      <td>3</td>\n",
       "      <td>married</td>\n",
       "      <td>41</td>\n",
       "      <td>1</td>\n",
       "      <td>0.939075</td>\n",
       "      <td>1</td>\n",
       "    </tr>\n",
       "    <tr>\n",
       "      <th>29999</th>\n",
       "      <td>male</td>\n",
       "      <td>2</td>\n",
       "      <td>married</td>\n",
       "      <td>46</td>\n",
       "      <td>0</td>\n",
       "      <td>0.966680</td>\n",
       "      <td>1</td>\n",
       "    </tr>\n",
       "  </tbody>\n",
       "</table>\n",
       "<p>30000 rows × 7 columns</p>\n",
       "</div>"
      ],
      "text/plain": [
       "          SEX  EDUCATION MARRIAGE  AGE  max_backlog_month  balance_to_credit  \\\n",
       "0      female          2  married   24                  2           0.195650   \n",
       "1      female          2   single   26                  2           0.028792   \n",
       "2      female          2   single   34                  0           0.308011   \n",
       "3      female          2  married   37                  0           0.961820   \n",
       "4        male          2  married   57                  0           0.516700   \n",
       "...       ...        ...      ...  ...                ...                ...   \n",
       "29995    male          3  married   39                  0           0.924373   \n",
       "29996    male          3   single   43                  0           0.059000   \n",
       "29997    male          2   single   37                  4           0.619400   \n",
       "29998    male          3  married   41                  1           0.939075   \n",
       "29999    male          2  married   46                  0           0.966680   \n",
       "\n",
       "       default payment next month  \n",
       "0                               1  \n",
       "1                               1  \n",
       "2                               0  \n",
       "3                               0  \n",
       "4                               0  \n",
       "...                           ...  \n",
       "29995                           0  \n",
       "29996                           0  \n",
       "29997                           1  \n",
       "29998                           1  \n",
       "29999                           1  \n",
       "\n",
       "[30000 rows x 7 columns]"
      ]
     },
     "execution_count": 111,
     "metadata": {},
     "output_type": "execute_result"
    }
   ],
   "source": [
    "df"
   ]
  }
 ],
 "metadata": {
  "kernelspec": {
   "display_name": "Python 3",
   "language": "python",
   "name": "python3"
  },
  "language_info": {
   "codemirror_mode": {
    "name": "ipython",
    "version": 3
   },
   "file_extension": ".py",
   "mimetype": "text/x-python",
   "name": "python",
   "nbconvert_exporter": "python",
   "pygments_lexer": "ipython3",
   "version": "3.8.8"
  }
 },
 "nbformat": 4,
 "nbformat_minor": 5
}
