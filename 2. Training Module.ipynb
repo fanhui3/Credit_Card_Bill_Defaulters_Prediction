{
 "cells": [
  {
   "cell_type": "code",
   "execution_count": 1,
   "id": "ff994f08",
   "metadata": {},
   "outputs": [],
   "source": [
    "import pandas as pd\n",
    "import seaborn as sns\n",
    "import numpy as np\n",
    "import matplotlib.pyplot as plt\n",
    "\n",
    "#machine learning packages\n",
    "from sklearn.model_selection import train_test_split\n",
    "from sklearn.preprocessing import StandardScaler\n",
    "from sklearn.metrics import confusion_matrix, accuracy_score\n",
    "from sklearn.metrics import roc_auc_score\n",
    "\n",
    "#models\n",
    "from sklearn.linear_model import LogisticRegression\n",
    "from sklearn.svm import SVC\n",
    "from sklearn.naive_bayes import GaussianNB\n",
    "from sklearn.tree import DecisionTreeClassifier\n",
    "from sklearn.ensemble import RandomForestClassifier\n",
    "\n",
    "#export object\n",
    "import joblib"
   ]
  },
  {
   "cell_type": "markdown",
   "id": "07831816",
   "metadata": {},
   "source": [
    "# Import data "
   ]
  },
  {
   "cell_type": "code",
   "execution_count": 2,
   "id": "33f1f756",
   "metadata": {},
   "outputs": [],
   "source": [
    "df = pd.read_csv(\"cleaned_data.csv\")"
   ]
  },
  {
   "cell_type": "markdown",
   "id": "f98c665b",
   "metadata": {},
   "source": [
    "# balancing the data "
   ]
  },
  {
   "cell_type": "code",
   "execution_count": 5,
   "id": "27344d5f",
   "metadata": {},
   "outputs": [],
   "source": [
    "default_class = {}\n",
    "\n",
    "for y in set(list(df[\"default payment next month\"])):\n",
    "    default_class[y] = df[df[\"default payment next month\"] == y]"
   ]
  },
  {
   "cell_type": "code",
   "execution_count": 10,
   "id": "9d814f60",
   "metadata": {},
   "outputs": [],
   "source": [
    "#resample from the defaulters to the amount of non-defaulters\n",
    "expanded_defaulter = default_class[1].sample(n=len(default_class[0]),replace=True)"
   ]
  },
  {
   "cell_type": "code",
   "execution_count": 9,
   "id": "48c0f0d9",
   "metadata": {},
   "outputs": [
    {
     "data": {
      "text/plain": [
       "0    0.5\n",
       "1    0.5\n",
       "Name: default payment next month, dtype: float64"
      ]
     },
     "execution_count": 9,
     "metadata": {},
     "output_type": "execute_result"
    }
   ],
   "source": [
    "df = pd.concat([default_class[0], expanded_defaulter],axis=\"index\")\n",
    "df[\"default payment next month\"].value_counts(normalize=True)"
   ]
  },
  {
   "cell_type": "markdown",
   "id": "c4938d90",
   "metadata": {},
   "source": [
    "# one-hot encoding"
   ]
  },
  {
   "cell_type": "code",
   "execution_count": 11,
   "id": "e524bddb",
   "metadata": {},
   "outputs": [],
   "source": [
    "#categorical variables\n",
    "catorgical_variables = [\"SEX\", \"MARRIAGE\"]\n",
    "\n",
    "for col in catorgical_variables:\n",
    "    dummy = pd.get_dummies(df[col])\n",
    "    df.drop(col,axis=\"columns\", inplace=True)\n",
    "    df = pd.concat([df,dummy], axis=\"columns\")"
   ]
  },
  {
   "cell_type": "markdown",
   "id": "9e8599a0",
   "metadata": {},
   "source": [
    "# train_test_split"
   ]
  },
  {
   "cell_type": "code",
   "execution_count": 13,
   "id": "3ae1d344",
   "metadata": {},
   "outputs": [],
   "source": [
    "X_train, X_test, y_train, y_test = train_test_split(df.drop(\"default payment next month\", axis=\"columns\"), df[\"default payment next month\"], \n",
    "                                                    test_size = 0.2, random_state = 42)"
   ]
  },
  {
   "cell_type": "markdown",
   "id": "c361f67e",
   "metadata": {},
   "source": [
    "# feature scaling"
   ]
  },
  {
   "cell_type": "code",
   "execution_count": 17,
   "id": "70e4dc0f",
   "metadata": {},
   "outputs": [],
   "source": [
    "sc = StandardScaler()\n",
    "numeric_columns = X_train.columns[0:3]"
   ]
  },
  {
   "cell_type": "code",
   "execution_count": 18,
   "id": "5f6c9392",
   "metadata": {},
   "outputs": [],
   "source": [
    "X_train[numeric_columns] = sc.fit_transform(X_train[numeric_columns])\n",
    "X_test[numeric_columns] = sc.transform(X_test[numeric_columns])"
   ]
  },
  {
   "cell_type": "code",
   "execution_count": 19,
   "id": "df0e22e0",
   "metadata": {},
   "outputs": [
    {
     "data": {
      "text/plain": [
       "['feature_scaler.pkl']"
      ]
     },
     "execution_count": 19,
     "metadata": {},
     "output_type": "execute_result"
    }
   ],
   "source": [
    "joblib.dump(sc, \"feature_scaler.pkl\")"
   ]
  },
  {
   "cell_type": "code",
   "execution_count": 20,
   "id": "c85f9d95",
   "metadata": {},
   "outputs": [],
   "source": [
    "compiled_y_test = pd.DataFrame(y_test.copy())"
   ]
  },
  {
   "cell_type": "markdown",
   "id": "ad8a765c",
   "metadata": {},
   "source": [
    "# model training"
   ]
  },
  {
   "cell_type": "markdown",
   "id": "8cad5a3d",
   "metadata": {},
   "source": [
    "## logistic model (69.7%)"
   ]
  },
  {
   "cell_type": "code",
   "execution_count": 22,
   "id": "7c813053",
   "metadata": {},
   "outputs": [
    {
     "data": {
      "text/plain": [
       "LogisticRegression(random_state=42)"
      ]
     },
     "execution_count": 22,
     "metadata": {},
     "output_type": "execute_result"
    }
   ],
   "source": [
    "logistic = LogisticRegression(random_state=42)\n",
    "logistic.fit(X_train, y_train)"
   ]
  },
  {
   "cell_type": "code",
   "execution_count": 24,
   "id": "a0dcea14",
   "metadata": {},
   "outputs": [],
   "source": [
    "y_pred = pd.Series(logistic.predict(X_test), name=\"logisctic Prediction\")\n",
    "compiled_y_test = pd.concat([compiled_y_test.reset_index(drop=True), y_pred], axis = \"columns\")"
   ]
  },
  {
   "cell_type": "code",
   "execution_count": 25,
   "id": "b47c6f05",
   "metadata": {},
   "outputs": [
    {
     "name": "stdout",
     "output_type": "stream",
     "text": [
      "[[3565 1138]\n",
      " [1698 2945]]\n"
     ]
    },
    {
     "data": {
      "text/plain": [
       "0.6965546757971325"
      ]
     },
     "execution_count": 25,
     "metadata": {},
     "output_type": "execute_result"
    }
   ],
   "source": [
    "cm = confusion_matrix(y_test, y_pred)\n",
    "print(cm)\n",
    "accuracy_score(y_test, y_pred)"
   ]
  },
  {
   "cell_type": "code",
   "execution_count": 27,
   "id": "3fec0b5e",
   "metadata": {},
   "outputs": [
    {
     "data": {
      "text/html": [
       "<div>\n",
       "<style scoped>\n",
       "    .dataframe tbody tr th:only-of-type {\n",
       "        vertical-align: middle;\n",
       "    }\n",
       "\n",
       "    .dataframe tbody tr th {\n",
       "        vertical-align: top;\n",
       "    }\n",
       "\n",
       "    .dataframe thead th {\n",
       "        text-align: right;\n",
       "    }\n",
       "</style>\n",
       "<table border=\"1\" class=\"dataframe\">\n",
       "  <thead>\n",
       "    <tr style=\"text-align: right;\">\n",
       "      <th></th>\n",
       "      <th>Variables</th>\n",
       "      <th>Coefficient</th>\n",
       "    </tr>\n",
       "  </thead>\n",
       "  <tbody>\n",
       "    <tr>\n",
       "      <th>0</th>\n",
       "      <td>intercept</td>\n",
       "      <td>0.004953</td>\n",
       "    </tr>\n",
       "    <tr>\n",
       "      <th>0</th>\n",
       "      <td>EDUCATION</td>\n",
       "      <td>-0.023155</td>\n",
       "    </tr>\n",
       "    <tr>\n",
       "      <th>1</th>\n",
       "      <td>AGE</td>\n",
       "      <td>0.037494</td>\n",
       "    </tr>\n",
       "    <tr>\n",
       "      <th>2</th>\n",
       "      <td>max_backlog_month</td>\n",
       "      <td>0.869153</td>\n",
       "    </tr>\n",
       "    <tr>\n",
       "      <th>3</th>\n",
       "      <td>balance_to_credit</td>\n",
       "      <td>0.028645</td>\n",
       "    </tr>\n",
       "    <tr>\n",
       "      <th>4</th>\n",
       "      <td>female</td>\n",
       "      <td>-0.068449</td>\n",
       "    </tr>\n",
       "    <tr>\n",
       "      <th>5</th>\n",
       "      <td>male</td>\n",
       "      <td>0.073319</td>\n",
       "    </tr>\n",
       "    <tr>\n",
       "      <th>6</th>\n",
       "      <td>married</td>\n",
       "      <td>0.105657</td>\n",
       "    </tr>\n",
       "    <tr>\n",
       "      <th>7</th>\n",
       "      <td>others</td>\n",
       "      <td>-0.025613</td>\n",
       "    </tr>\n",
       "    <tr>\n",
       "      <th>8</th>\n",
       "      <td>single</td>\n",
       "      <td>-0.075174</td>\n",
       "    </tr>\n",
       "  </tbody>\n",
       "</table>\n",
       "</div>"
      ],
      "text/plain": [
       "           Variables  Coefficient\n",
       "0          intercept     0.004953\n",
       "0          EDUCATION    -0.023155\n",
       "1                AGE     0.037494\n",
       "2  max_backlog_month     0.869153\n",
       "3  balance_to_credit     0.028645\n",
       "4             female    -0.068449\n",
       "5               male     0.073319\n",
       "6            married     0.105657\n",
       "7             others    -0.025613\n",
       "8             single    -0.075174"
      ]
     },
     "execution_count": 27,
     "metadata": {},
     "output_type": "execute_result"
    }
   ],
   "source": [
    "#building the coefficient table to understand the impact of each variable and also to ensure no single variable is driving \n",
    "#the predictive result\n",
    "intercept_table = pd.DataFrame(pd.Series(logistic.intercept_, name=\"Coefs\"))\n",
    "intercept_table[0] = \"intercept\"\n",
    "intercept_table\n",
    "\n",
    "coef_table = pd.DataFrame(list(X_train.columns)).copy()\n",
    "coef_table.insert(len(coef_table.columns), \"Coefs\", logistic.coef_.transpose())\n",
    "\n",
    "coef_table = pd.concat([intercept_table,coef_table], axis = 0)\n",
    "coef_table = coef_table[[0,\"Coefs\"]]\n",
    "coef_table.columns = [\"Variables\", \"Coefficient\"]\n",
    "\n",
    "coef_table"
   ]
  },
  {
   "cell_type": "markdown",
   "id": "9bcc937c",
   "metadata": {},
   "source": [
    "## Decision tree (87.1%)"
   ]
  },
  {
   "cell_type": "code",
   "execution_count": 29,
   "id": "956ee5cc",
   "metadata": {},
   "outputs": [
    {
     "data": {
      "text/plain": [
       "DecisionTreeClassifier(criterion='entropy', random_state=42)"
      ]
     },
     "execution_count": 29,
     "metadata": {},
     "output_type": "execute_result"
    }
   ],
   "source": [
    "Tree = DecisionTreeClassifier(criterion = 'entropy', random_state = 42)\n",
    "Tree.fit(X_train, y_train)"
   ]
  },
  {
   "cell_type": "code",
   "execution_count": 30,
   "id": "724fbed5",
   "metadata": {},
   "outputs": [],
   "source": [
    "y_pred = pd.Series(Tree.predict(X_test), name=\"Tree Prediction\")\n",
    "compiled_y_test = pd.concat([compiled_y_test.reset_index(drop=True), y_pred], axis = \"columns\")"
   ]
  },
  {
   "cell_type": "code",
   "execution_count": 31,
   "id": "3a7dd84d",
   "metadata": {},
   "outputs": [
    {
     "name": "stdout",
     "output_type": "stream",
     "text": [
      "[[3721  982]\n",
      " [ 222 4421]]\n"
     ]
    },
    {
     "data": {
      "text/plain": [
       "0.8711748341536486"
      ]
     },
     "execution_count": 31,
     "metadata": {},
     "output_type": "execute_result"
    }
   ],
   "source": [
    "cm = confusion_matrix(y_test, y_pred)\n",
    "print(cm)\n",
    "accuracy_score(y_test, y_pred)"
   ]
  },
  {
   "cell_type": "markdown",
   "id": "64787fdd",
   "metadata": {},
   "source": [
    "## Random Forest (88.3%)"
   ]
  },
  {
   "cell_type": "code",
   "execution_count": 33,
   "id": "5e5dd653",
   "metadata": {},
   "outputs": [
    {
     "data": {
      "text/plain": [
       "RandomForestClassifier(criterion='entropy', n_estimators=201, random_state=0)"
      ]
     },
     "execution_count": 33,
     "metadata": {},
     "output_type": "execute_result"
    }
   ],
   "source": [
    "forest = RandomForestClassifier(n_estimators = 201, criterion = 'entropy', random_state = 0)\n",
    "forest.fit(X_train, y_train)"
   ]
  },
  {
   "cell_type": "code",
   "execution_count": 34,
   "id": "cdc9562c",
   "metadata": {},
   "outputs": [],
   "source": [
    "y_pred = pd.Series(forest.predict(X_test), name=\"Forest Prediction\")\n",
    "compiled_y_test = pd.concat([compiled_y_test.reset_index(drop=True), y_pred], axis = \"columns\")"
   ]
  },
  {
   "cell_type": "code",
   "execution_count": 35,
   "id": "71899590",
   "metadata": {},
   "outputs": [
    {
     "name": "stdout",
     "output_type": "stream",
     "text": [
      "[[3802  901]\n",
      " [ 192 4451]]\n"
     ]
    },
    {
     "data": {
      "text/plain": [
       "0.8830515728653969"
      ]
     },
     "execution_count": 35,
     "metadata": {},
     "output_type": "execute_result"
    }
   ],
   "source": [
    "cm = confusion_matrix(y_test, y_pred)\n",
    "print(cm)\n",
    "accuracy_score(y_test, y_pred)"
   ]
  },
  {
   "cell_type": "code",
   "execution_count": 36,
   "id": "80a0e8a3",
   "metadata": {},
   "outputs": [
    {
     "data": {
      "text/plain": [
       "['random_forest_predictor.pkl']"
      ]
     },
     "execution_count": 36,
     "metadata": {},
     "output_type": "execute_result"
    }
   ],
   "source": [
    "#export this model as it is chosen\n",
    "joblib.dump(forest, \"random_forest_predictor.pkl\")"
   ]
  },
  {
   "cell_type": "markdown",
   "id": "736ccaa4",
   "metadata": {},
   "source": [
    "# Emsembling previous 3 models (96.0%)"
   ]
  },
  {
   "cell_type": "code",
   "execution_count": 38,
   "id": "dbb64d7e",
   "metadata": {},
   "outputs": [
    {
     "data": {
      "text/html": [
       "<div>\n",
       "<style scoped>\n",
       "    .dataframe tbody tr th:only-of-type {\n",
       "        vertical-align: middle;\n",
       "    }\n",
       "\n",
       "    .dataframe tbody tr th {\n",
       "        vertical-align: top;\n",
       "    }\n",
       "\n",
       "    .dataframe thead th {\n",
       "        text-align: right;\n",
       "    }\n",
       "</style>\n",
       "<table border=\"1\" class=\"dataframe\">\n",
       "  <thead>\n",
       "    <tr style=\"text-align: right;\">\n",
       "      <th></th>\n",
       "      <th>default payment next month</th>\n",
       "      <th>logisctic Prediction</th>\n",
       "      <th>Tree Prediction</th>\n",
       "      <th>Forest Prediction</th>\n",
       "      <th>ensembled prediction</th>\n",
       "    </tr>\n",
       "  </thead>\n",
       "  <tbody>\n",
       "    <tr>\n",
       "      <th>0</th>\n",
       "      <td>0</td>\n",
       "      <td>1</td>\n",
       "      <td>0</td>\n",
       "      <td>0</td>\n",
       "      <td>0</td>\n",
       "    </tr>\n",
       "    <tr>\n",
       "      <th>1</th>\n",
       "      <td>1</td>\n",
       "      <td>1</td>\n",
       "      <td>1</td>\n",
       "      <td>1</td>\n",
       "      <td>1</td>\n",
       "    </tr>\n",
       "    <tr>\n",
       "      <th>2</th>\n",
       "      <td>0</td>\n",
       "      <td>1</td>\n",
       "      <td>1</td>\n",
       "      <td>1</td>\n",
       "      <td>1</td>\n",
       "    </tr>\n",
       "    <tr>\n",
       "      <th>3</th>\n",
       "      <td>1</td>\n",
       "      <td>1</td>\n",
       "      <td>1</td>\n",
       "      <td>1</td>\n",
       "      <td>1</td>\n",
       "    </tr>\n",
       "    <tr>\n",
       "      <th>4</th>\n",
       "      <td>0</td>\n",
       "      <td>0</td>\n",
       "      <td>0</td>\n",
       "      <td>0</td>\n",
       "      <td>0</td>\n",
       "    </tr>\n",
       "    <tr>\n",
       "      <th>...</th>\n",
       "      <td>...</td>\n",
       "      <td>...</td>\n",
       "      <td>...</td>\n",
       "      <td>...</td>\n",
       "      <td>...</td>\n",
       "    </tr>\n",
       "    <tr>\n",
       "      <th>9341</th>\n",
       "      <td>0</td>\n",
       "      <td>0</td>\n",
       "      <td>0</td>\n",
       "      <td>0</td>\n",
       "      <td>0</td>\n",
       "    </tr>\n",
       "    <tr>\n",
       "      <th>9342</th>\n",
       "      <td>1</td>\n",
       "      <td>0</td>\n",
       "      <td>1</td>\n",
       "      <td>1</td>\n",
       "      <td>1</td>\n",
       "    </tr>\n",
       "    <tr>\n",
       "      <th>9343</th>\n",
       "      <td>0</td>\n",
       "      <td>0</td>\n",
       "      <td>0</td>\n",
       "      <td>0</td>\n",
       "      <td>0</td>\n",
       "    </tr>\n",
       "    <tr>\n",
       "      <th>9344</th>\n",
       "      <td>0</td>\n",
       "      <td>0</td>\n",
       "      <td>0</td>\n",
       "      <td>0</td>\n",
       "      <td>0</td>\n",
       "    </tr>\n",
       "    <tr>\n",
       "      <th>9345</th>\n",
       "      <td>0</td>\n",
       "      <td>1</td>\n",
       "      <td>0</td>\n",
       "      <td>1</td>\n",
       "      <td>1</td>\n",
       "    </tr>\n",
       "  </tbody>\n",
       "</table>\n",
       "<p>9346 rows × 5 columns</p>\n",
       "</div>"
      ],
      "text/plain": [
       "      default payment next month  logisctic Prediction  Tree Prediction  \\\n",
       "0                              0                     1                0   \n",
       "1                              1                     1                1   \n",
       "2                              0                     1                1   \n",
       "3                              1                     1                1   \n",
       "4                              0                     0                0   \n",
       "...                          ...                   ...              ...   \n",
       "9341                           0                     0                0   \n",
       "9342                           1                     0                1   \n",
       "9343                           0                     0                0   \n",
       "9344                           0                     0                0   \n",
       "9345                           0                     1                0   \n",
       "\n",
       "      Forest Prediction  ensembled prediction  \n",
       "0                     0                     0  \n",
       "1                     1                     1  \n",
       "2                     1                     1  \n",
       "3                     1                     1  \n",
       "4                     0                     0  \n",
       "...                 ...                   ...  \n",
       "9341                  0                     0  \n",
       "9342                  1                     1  \n",
       "9343                  0                     0  \n",
       "9344                  0                     0  \n",
       "9345                  1                     1  \n",
       "\n",
       "[9346 rows x 5 columns]"
      ]
     },
     "execution_count": 38,
     "metadata": {},
     "output_type": "execute_result"
    }
   ],
   "source": [
    "#combine all model and let them vote\n",
    "ensembled_pred = compiled_y_test.drop(\"default payment next month\",axis=\"columns\")\n",
    "compiled_y_test[\"ensembled prediction\"] = ensembled_pred.mode(axis=1)\n",
    "compiled_y_test"
   ]
  },
  {
   "cell_type": "code",
   "execution_count": 40,
   "id": "0df4bfd6",
   "metadata": {},
   "outputs": [
    {
     "name": "stdout",
     "output_type": "stream",
     "text": [
      "[[3846  857]\n",
      " [ 188 4455]]\n"
     ]
    },
    {
     "data": {
      "text/plain": [
       "0.9595548897924245"
      ]
     },
     "execution_count": 40,
     "metadata": {},
     "output_type": "execute_result"
    }
   ],
   "source": [
    "#accuracy is as good as random forest\n",
    "cm = confusion_matrix(compiled_y_test[\"default payment next month\"], compiled_y_test[\"ensembled prediction\"] )\n",
    "print(cm)\n",
    "accuracy_score(compiled_y_test[\"ensembled prediction\"] , y_pred)"
   ]
  },
  {
   "cell_type": "code",
   "execution_count": null,
   "id": "b32d4ba1",
   "metadata": {},
   "outputs": [],
   "source": []
  }
 ],
 "metadata": {
  "kernelspec": {
   "display_name": "Python 3",
   "language": "python",
   "name": "python3"
  },
  "language_info": {
   "codemirror_mode": {
    "name": "ipython",
    "version": 3
   },
   "file_extension": ".py",
   "mimetype": "text/x-python",
   "name": "python",
   "nbconvert_exporter": "python",
   "pygments_lexer": "ipython3",
   "version": "3.8.8"
  }
 },
 "nbformat": 4,
 "nbformat_minor": 5
}
